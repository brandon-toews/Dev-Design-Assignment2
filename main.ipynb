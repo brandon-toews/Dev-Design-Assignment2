{
 "cells": [
  {
   "cell_type": "code",
   "execution_count": 1,
   "id": "07d0098b",
   "metadata": {
    "scrolled": true
   },
   "outputs": [
    {
     "name": "stdout",
     "output_type": "stream",
     "text": [
      "<class 'pandas.core.frame.DataFrame'>\n",
      "RangeIndex: 205 entries, 0 to 204\n",
      "Data columns (total 26 columns):\n",
      " #   Column            Non-Null Count  Dtype  \n",
      "---  ------            --------------  -----  \n",
      " 0   car_ID            205 non-null    int64  \n",
      " 1   symboling         205 non-null    int64  \n",
      " 2   CarName           205 non-null    object \n",
      " 3   fueltype          205 non-null    object \n",
      " 4   aspiration        205 non-null    object \n",
      " 5   doornumber        205 non-null    object \n",
      " 6   carbody           205 non-null    object \n",
      " 7   drivewheel        205 non-null    object \n",
      " 8   enginelocation    205 non-null    object \n",
      " 9   wheelbase         205 non-null    float64\n",
      " 10  carlength         205 non-null    float64\n",
      " 11  carwidth          205 non-null    float64\n",
      " 12  carheight         205 non-null    float64\n",
      " 13  curbweight        205 non-null    int64  \n",
      " 14  enginetype        205 non-null    object \n",
      " 15  cylindernumber    205 non-null    object \n",
      " 16  enginesize        205 non-null    int64  \n",
      " 17  fuelsystem        205 non-null    object \n",
      " 18  boreratio         205 non-null    float64\n",
      " 19  stroke            205 non-null    float64\n",
      " 20  compressionratio  205 non-null    float64\n",
      " 21  horsepower        205 non-null    int64  \n",
      " 22  peakrpm           205 non-null    int64  \n",
      " 23  citympg           205 non-null    int64  \n",
      " 24  highwaympg        205 non-null    int64  \n",
      " 25  price             205 non-null    float64\n",
      "dtypes: float64(8), int64(8), object(10)\n",
      "memory usage: 41.8+ KB\n",
      "TypeError occurred: ufunc 'multiply' did not contain a loop with signature matching types (dtype('<U4'), dtype('float64')) -> None\n",
      "TypeError occurred: Categorical is not ordered for operation min\n",
      "you can use .as_ordered() to change the Categorical to an ordered one\n",
      "\n"
     ]
    },
    {
     "data": {
      "image/png": "[encoded data removed]",
      "text/plain": [
       "<Figure size 144x72 with 1 Axes>"
      ]
     },
     "metadata": {
      "needs_background": "light"
     },
     "output_type": "display_data"
    },
    {
     "data": {
      "image/png": "[encoded data removed]",
      "text/plain": [
       "<Figure size 576x576 with 1 Axes>"
      ]
     },
     "metadata": {
      "needs_background": "light"
     },
     "output_type": "display_data"
    },
    {
     "data": {
      "text/plain": [
       "<Figure size 576x576 with 0 Axes>"
      ]
     },
     "metadata": {},
     "output_type": "display_data"
    }
   ],
   "source": [
    "from myimports import (\n",
    "    sys, tk, ttk, filedialog, mysql, pd,\n",
    "    create_engine, text, Integer, Text, String, DateTime, Boolean,\n",
    "    sns, plt, np, Image, ImageTk,\n",
    "    large_font, medium_font, small_bold\n",
    ")\n",
    "\n",
    "from trainingmanager import TrainingManager\n",
    "from tabletoolbar import TableToolbar\n",
    "from dataframetoolbar import DataFrameToolbar\n",
    "from viewwindow import ViewWindow\n",
    "\n",
    "        \n",
    "# Terminate the Tkinter event loop when the window is closed\n",
    "def on_closing(*args):\n",
    "    root.destroy()  \n",
    "    exit() # Quit the Tkinter event loop and exit Python    \n",
    "\n",
    "\n",
    "# Create the main window\n",
    "root = tk.Tk()\n",
    "root.protocol(\"WM_DELETE_WINDOW\", on_closing)  # Call on_closing() when the window is closed\n",
    "\n",
    "exit_flag = tk.BooleanVar()\n",
    "\n",
    "# Set the initial value of the boolean variable\n",
    "exit_flag.set(False)\n",
    "\n",
    "# Trace the changes to the boolean variable and bind the callback function\n",
    "exit_flag.trace(\"w\", on_closing)\n",
    "\n",
    "root.title(\"Machine Learning Application Prototype\")\n",
    "\n",
    "root.maxsize(1300, 800)  # specify the max size the window can expand to\n",
    "root.config(bg=\"royal blue\")  # specify background color\n",
    "\n",
    "# Create left and right frames\n",
    "left_frame = tk.Frame(root, width=200, height=700, bg='grey')\n",
    "left_frame.grid(row=0, column=0, padx=5, pady=5)\n",
    "\n",
    "\n",
    "right_frame = tk.Frame(root, width=650, height=600, bg='grey')\n",
    "right_frame.grid(row=0, column=1, padx=5, pady=5)\n",
    "\n",
    "view_window = ViewWindow(right_frame)\n",
    "\n",
    "dataframe_toolbar = DataFrameToolbar(left_frame, view_window)\n",
    "\n",
    "training_manager = TrainingManager(left_frame, view_window, dataframe_toolbar)\n",
    "\n",
    "table_toolbar = TableToolbar(left_frame, view_window, training_manager, dataframe_toolbar, exit_flag)\n",
    "\n",
    "\n",
    "# Run the main event loop\n",
    "root.mainloop()\n",
    "\n",
    "\n"
   ]
  },
  {
   "cell_type": "code",
   "execution_count": null,
   "id": "ad930dfa",
   "metadata": {},
   "outputs": [],
   "source": []
  }
 ],
 "metadata": {
  "kernelspec": {
   "display_name": "Python 3 (ipykernel)",
   "language": "python",
   "name": "python3"
  },
  "language_info": {
   "codemirror_mode": {
    "name": "ipython",
    "version": 3
   },
   "file_extension": ".py",
   "mimetype": "text/x-python",
   "name": "python",
   "nbconvert_exporter": "python",
   "pygments_lexer": "ipython3",
   "version": "3.9.7"
  }
 },
 "nbformat": 4,
 "nbformat_minor": 5
}
