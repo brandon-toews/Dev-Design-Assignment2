{
 "cells": [
  {
   "cell_type": "code",
   "execution_count": 1,
   "id": "07d0098b",
   "metadata": {
    "scrolled": true
   },
   "outputs": [
    {
     "ename": "IndentationError",
     "evalue": "expected an indented block (dataframetoolbar.py, line 18)",
     "output_type": "error",
     "traceback": [
      "Traceback \u001b[0;36m(most recent call last)\u001b[0m:\n",
      "  File \u001b[1;32m\"/Users/brandontoews/opt/miniconda3/lib/python3.9/site-packages/IPython/core/interactiveshell.py\"\u001b[0m, line \u001b[1;32m3457\u001b[0m, in \u001b[1;35mrun_code\u001b[0m\n    exec(code_obj, self.user_global_ns, self.user_ns)\n",
      "\u001b[0;36m  File \u001b[0;32m\"/var/folders/s7/102gqb_s7v51nwr7m5mv445h0000gn/T/ipykernel_4888/1576070610.py\"\u001b[0;36m, line \u001b[0;32m10\u001b[0;36m, in \u001b[0;35m<module>\u001b[0;36m\u001b[0m\n\u001b[0;31m    from dataframetoolbar import DataFrameToolbar\u001b[0m\n",
      "\u001b[0;36m  File \u001b[0;32m\"/Users/brandontoews/Desktop/Projects/Systems Design & Dev/Semester 2/Dev-Design-Assignment2/dataframetoolbar.py\"\u001b[0;36m, line \u001b[0;32m18\u001b[0m\n\u001b[0;31m    def show_tables(self):\u001b[0m\n\u001b[0m    ^\u001b[0m\n\u001b[0;31mIndentationError\u001b[0m\u001b[0;31m:\u001b[0m expected an indented block\n"
     ]
    }
   ],
   "source": [
    "from myimports import (\n",
    "    sys, tk, ttk, filedialog, mysql, pd,\n",
    "    create_engine, text, Integer, Text, String, DateTime, Boolean,\n",
    "    sns, plt, Image, ImageTk,\n",
    "    large_font, medium_font, small_bold\n",
    ")\n",
    "\n",
    "from trainingmanager import TrainingManager\n",
    "from tabletoolbar import TableToolbar\n",
    "from dataframetoolbar import DataFrameToolbar\n",
    "\n",
    "        \n",
    "# Terminate the Tkinter event loop when the window is closed\n",
    "def on_closing(*args):\n",
    "    root.destroy()  \n",
    "    exit() # Quit the Tkinter event loop and exit Python    \n",
    "\n",
    "    \n",
    "current_dataframe = pd.DataFrame()\n",
    "\n",
    "# Create the main window\n",
    "root = tk.Tk()\n",
    "root.protocol(\"WM_DELETE_WINDOW\", on_closing)  # Call on_closing() when the window is closed\n",
    "\n",
    "exit_flag = tk.BooleanVar()\n",
    "\n",
    "# Set the initial value of the boolean variable\n",
    "exit_flag.set(False)\n",
    "\n",
    "# Trace the changes to the boolean variable and bind the callback function\n",
    "exit_flag.trace(\"w\", on_closing)\n",
    "\n",
    "root.title(\"Machine Learning Application Prototype\")\n",
    "\n",
    "root.maxsize(1200, 700)  # specify the max size the window can expand to\n",
    "root.config(bg=\"skyblue\")  # specify background color\n",
    "\n",
    "# Create left and right frames\n",
    "left_frame = tk.Frame(root, width=200, height=700, bg='grey')\n",
    "left_frame.grid(row=0, column=0, padx=10, pady=10)\n",
    "\n",
    "\n",
    "right_frame = tk.Frame(root, width=650, height=600, bg='grey')\n",
    "right_frame.grid(row=0, column=1, padx=10, pady=10)\n",
    "\n",
    "# Load the image\n",
    "#image = Image.open(\"pairplot.jpg\")\n",
    "#photo = ImageTk.PhotoImage(image)\n",
    "\n",
    "# Create a Canvas widget\n",
    "canvas = tk.Canvas(right_frame, width=640, height=595)\n",
    "canvas.grid(row=0, column=0, padx=5, pady=5, sticky='nsew')\n",
    "\n",
    "\n",
    "# Display the initial image on the Canvas\n",
    "image_item = canvas.create_image(0, 0, anchor='nw')\n",
    "\n",
    "# Create a Scrollbar widget\n",
    "canvas_yscrollbar = tk.Scrollbar(right_frame, orient=tk.VERTICAL, command=canvas.yview)\n",
    "canvas_yscrollbar.grid(row=0, column=1, sticky='ns')\n",
    "\n",
    "# Create a Scrollbar widget\n",
    "canvas_xscrollbar = tk.Scrollbar(right_frame, orient=tk.HORIZONTAL, command=canvas.xview)\n",
    "canvas_xscrollbar.grid(row=1, column=0, sticky='we')\n",
    "\n",
    "# Configure the Canvas to use the Scrollbar\n",
    "canvas.config(yscrollcommand=canvas_yscrollbar.set, xscrollcommand=canvas_xscrollbar.set)\n",
    "\n",
    "dataframe_toolbar = DataFrameToolbar(left_frame, current_dataframe)\n",
    "\n",
    "training_manager = TrainingManager(left_frame, canvas, image_item, current_dataframe, dataframe_toolbar)\n",
    "\n",
    "table_toolbar = TableToolbar(left_frame, training_manager, exit_flag)\n",
    "\n",
    "\n",
    "# Run the main event loop\n",
    "root.mainloop()\n",
    "\n",
    "\n"
   ]
  },
  {
   "cell_type": "code",
   "execution_count": null,
   "id": "dfcbba97",
   "metadata": {},
   "outputs": [],
   "source": []
  }
 ],
 "metadata": {
  "kernelspec": {
   "display_name": "Python 3 (ipykernel)",
   "language": "python",
   "name": "python3"
  },
  "language_info": {
   "codemirror_mode": {
    "name": "ipython",
    "version": 3
   },
   "file_extension": ".py",
   "mimetype": "text/x-python",
   "name": "python",
   "nbconvert_exporter": "python",
   "pygments_lexer": "ipython3",
   "version": "3.9.7"
  }
 },
 "nbformat": 4,
 "nbformat_minor": 5
}
