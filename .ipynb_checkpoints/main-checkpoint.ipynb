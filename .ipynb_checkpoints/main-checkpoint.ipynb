{
 "cells": [
  {
   "cell_type": "code",
   "execution_count": 1,
   "id": "07d0098b",
   "metadata": {
    "scrolled": true
   },
   "outputs": [
    {
     "name": "stdout",
     "output_type": "stream",
     "text": [
      "DataFrame loaded successfully!\n",
      "   Hours  Scores\n",
      "0    2.5      21\n",
      "1    5.1      47\n",
      "2    3.2      27\n",
      "3    8.5      75\n",
      "4    3.5      30\n"
     ]
    }
   ],
   "source": [
    "from myimports import (\n",
    "    sys, tk, ttk, filedialog, mysql, pd,\n",
    "    create_engine, text, Integer, Text, String, DateTime, Boolean,\n",
    "    sns, plt, np, Image, ImageTk,\n",
    "    large_font, medium_font, small_bold\n",
    ")\n",
    "\n",
    "from trainingmanager import TrainingManager\n",
    "from tabletoolbar import TableToolbar\n",
    "from dataframetoolbar import DataFrameToolbar\n",
    "from viewwindow import ViewWindow\n",
    "\n",
    "        \n",
    "# Terminate the Tkinter event loop when the window is closed\n",
    "def on_closing(*args):\n",
    "    root.destroy()  \n",
    "    exit() # Quit the Tkinter event loop and exit Python    \n",
    "\n",
    "\n",
    "# Create the main window\n",
    "root = tk.Tk()\n",
    "root.protocol(\"WM_DELETE_WINDOW\", on_closing)  # Call on_closing() when the window is closed\n",
    "\n",
    "exit_flag = tk.BooleanVar()\n",
    "\n",
    "# Set the initial value of the boolean variable\n",
    "exit_flag.set(False)\n",
    "\n",
    "# Trace the changes to the boolean variable and bind the callback function\n",
    "exit_flag.trace(\"w\", on_closing)\n",
    "\n",
    "root.title(\"Machine Learning Application Prototype\")\n",
    "\n",
    "root.maxsize(1300, 800)  # specify the max size the window can expand to\n",
    "root.config(bg=\"royal blue\")  # specify background color\n",
    "\n",
    "# Create left and right frames\n",
    "left_frame = tk.Frame(root, width=200, height=700, bg='grey')\n",
    "left_frame.grid(row=0, column=0, padx=5, pady=5)\n",
    "\n",
    "\n",
    "right_frame = tk.Frame(root, width=650, height=600, bg='grey')\n",
    "right_frame.grid(row=0, column=1, padx=5, pady=5)\n",
    "\n",
    "view_window = ViewWindow(right_frame)\n",
    "\n",
    "dataframe_toolbar = DataFrameToolbar(left_frame, view_window)\n",
    "\n",
    "training_manager = TrainingManager(left_frame, view_window, dataframe_toolbar)\n",
    "\n",
    "table_toolbar = TableToolbar(left_frame, view_window, training_manager, dataframe_toolbar, exit_flag)\n",
    "\n",
    "\n",
    "# Run the main event loop\n",
    "root.mainloop()\n",
    "\n",
    "\n"
   ]
  },
  {
   "cell_type": "code",
   "execution_count": null,
   "id": "76f59261",
   "metadata": {},
   "outputs": [],
   "source": []
  }
 ],
 "metadata": {
  "kernelspec": {
   "display_name": "Python 3 (ipykernel)",
   "language": "python",
   "name": "python3"
  },
  "language_info": {
   "codemirror_mode": {
    "name": "ipython",
    "version": 3
   },
   "file_extension": ".py",
   "mimetype": "text/x-python",
   "name": "python",
   "nbconvert_exporter": "python",
   "pygments_lexer": "ipython3",
   "version": "3.9.7"
  }
 },
 "nbformat": 4,
 "nbformat_minor": 5
}
